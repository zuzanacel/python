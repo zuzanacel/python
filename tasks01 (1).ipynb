{
 "cells": [
  {
   "cell_type": "code",
   "execution_count": 15,
   "metadata": {},
   "outputs": [
    {
     "data": {
      "text/plain": [
       "(15.5, float)"
      ]
     },
     "execution_count": 15,
     "metadata": {},
     "output_type": "execute_result"
    }
   ],
   "source": [
    "# 1) Vytvor objekty s hodnotou 5 a hodnotou 10.0; \n",
    "# spocitej jejich soucet a zkontroluj datovy typ vysledku\n",
    "a = 5\n",
    "b = 10.5\n",
    "a + b, type(a + b)"
   ]
  },
  {
   "cell_type": "code",
   "execution_count": 16,
   "metadata": {},
   "outputs": [
    {
     "data": {
      "text/plain": [
       "'Vlre'"
      ]
     },
     "execution_count": 16,
     "metadata": {},
     "output_type": "execute_result"
    }
   ],
   "source": [
    "# 2) Vytvor retezec/string se svym jmenem;\n",
    "# vypis jen kazde druhe pismeno \n",
    "s = \"Valerie\" \n",
    "s[::2]\n"
   ]
  },
  {
   "cell_type": "code",
   "execution_count": 18,
   "metadata": {},
   "outputs": [
    {
     "data": {
      "text/plain": [
       "[1, 2, 3, 4, 5, 5, 4, 3, 2, 1]"
      ]
     },
     "execution_count": 18,
     "metadata": {},
     "output_type": "execute_result"
    }
   ],
   "source": [
    "# 3) Vytvor (rucne) seznam s hodnoty od 1 do 5;\n",
    "# pomoci nej vytvor seznam [1, 2, 3, 4, 5, 5, 4, 3, 2, 1]\n",
    "l = [1, 2, 3, 4, 5]\n",
    "l + l[::-1]\n"
   ]
  },
  {
   "cell_type": "code",
   "execution_count": 21,
   "metadata": {},
   "outputs": [
    {
     "data": {
      "text/plain": [
       "[4, 3, 2]"
      ]
     },
     "execution_count": 21,
     "metadata": {},
     "output_type": "execute_result"
    }
   ],
   "source": [
    "# 4) Vytvor (rucne) seznam s hodnoty od 2 do 4;\n",
    "# vytvor pak jeho obracenou variantu ([4, 3, 2])\n",
    "\n",
    "l = [2, 3, 4]\n",
    "l[::-1]\n"
   ]
  },
  {
   "cell_type": "code",
   "execution_count": 23,
   "metadata": {},
   "outputs": [
    {
     "data": {
      "text/plain": [
       "(3, 1)"
      ]
     },
     "execution_count": 23,
     "metadata": {},
     "output_type": "execute_result"
    }
   ],
   "source": [
    "# 5) Jaky zbytek ma deleni 10 / 3?\n",
    "10 // 3, 10 % 3"
   ]
  },
  {
   "cell_type": "code",
   "execution_count": 25,
   "metadata": {},
   "outputs": [
    {
     "data": {
      "text/plain": [
       "'Dneska'"
      ]
     },
     "execution_count": 25,
     "metadata": {},
     "output_type": "execute_result"
    }
   ],
   "source": [
    "# 6) Vytvor retezec/sting \"Dneska je krasny den\n",
    "# vem z nej jen substring \"Dneska\"\n",
    "\n",
    "\n",
    "s = \"Dneska je krasny den\"\n",
    "s[:len(\"Dneska\")]"
   ]
  },
  {
   "cell_type": "code",
   "execution_count": 27,
   "metadata": {},
   "outputs": [
    {
     "data": {
      "text/plain": [
       "(True, True, True)"
      ]
     },
     "execution_count": 27,
     "metadata": {},
     "output_type": "execute_result"
    }
   ],
   "source": [
    "# 7) Vytvor retezec/string 12321;\n",
    "# zkontroluj ze se jedna o palindrom (slovo/veta/cislo, ktera se cte stejne v libovolnem smeru)\n",
    "\n",
    "s = \"12321\"\n",
    "s[0] == s[-1], s[1] == s[-2], s[2] == s[-3]\n"
   ]
  },
  {
   "cell_type": "code",
   "execution_count": 29,
   "metadata": {},
   "outputs": [
    {
     "ename": "TypeError",
     "evalue": "'tuple' object does not support item assignment",
     "output_type": "error",
     "traceback": [
      "\u001b[0;31m---------------------------------------------------------------------------\u001b[0m",
      "\u001b[0;31mTypeError\u001b[0m                                 Traceback (most recent call last)",
      "\u001b[0;32m/tmp/ipykernel_29180/2403473095.py\u001b[0m in \u001b[0;36m<module>\u001b[0;34m\u001b[0m\n\u001b[1;32m      4\u001b[0m \u001b[0;34m\u001b[0m\u001b[0m\n\u001b[1;32m      5\u001b[0m \u001b[0mt\u001b[0m \u001b[0;34m=\u001b[0m \u001b[0;34m(\u001b[0m\u001b[0;36m1\u001b[0m\u001b[0;34m,\u001b[0m \u001b[0;34m\"2\"\u001b[0m\u001b[0;34m,\u001b[0m \u001b[0;34m\"tri\"\u001b[0m\u001b[0;34m)\u001b[0m\u001b[0;34m\u001b[0m\u001b[0;34m\u001b[0m\u001b[0m\n\u001b[0;32m----> 6\u001b[0;31m \u001b[0mt\u001b[0m\u001b[0;34m[\u001b[0m\u001b[0;36m0\u001b[0m\u001b[0;34m]\u001b[0m \u001b[0;34m=\u001b[0m \u001b[0;34m\"1\"\u001b[0m\u001b[0;34m\u001b[0m\u001b[0;34m\u001b[0m\u001b[0m\n\u001b[0m",
      "\u001b[0;31mTypeError\u001b[0m: 'tuple' object does not support item assignment"
     ]
    }
   ],
   "source": [
    "# 8) Vytvor n-tici/tuple s hodnoty 1, \"2\" a \"tri\";\n",
    "# funguje to? Ted' zkus zmenit jakoukoliv hodnotu n-tici.\n",
    "# Co se stane?\n",
    "\n",
    "t = (1, \"2\", \"tri\")\n",
    "t[0] = \"1\""
   ]
  },
  {
   "cell_type": "code",
   "execution_count": 31,
   "metadata": {},
   "outputs": [
    {
     "data": {
      "text/plain": [
       "(1, 1)"
      ]
     },
     "execution_count": 31,
     "metadata": {},
     "output_type": "execute_result"
    }
   ],
   "source": [
    "# 9) Vytvor n-tici/tuple s hodnoty 1, 2, 3, 2, 1;\n",
    "# zkontroluj jestli prvni a posledni hodnoty jsou stejne\n",
    "\n",
    "t = [1, 2, 3, 2, 1]\n",
    "t[0], t[-1]\n"
   ]
  },
  {
   "cell_type": "code",
   "execution_count": 33,
   "metadata": {},
   "outputs": [
    {
     "data": {
      "text/plain": [
       "Decimal('0.1428571428571428571428571429')"
      ]
     },
     "execution_count": 33,
     "metadata": {},
     "output_type": "execute_result"
    }
   ],
   "source": [
    "# 10) Vytvor decimal objekt s hodnotou 1 a s hodnotou 7;\n",
    "# zkontroluj, co dostanes pri deleni techto dvou objektu;\n",
    "# ted' porovnej si to s delenim mezi float objekty 1.0 a 7.0.\n",
    "\n",
    "import decimal \n",
    "d1 = decimal.Decimal(1)\n",
    "d2 = decimal.Decimal(7)\n",
    "\n",
    "d1 / d2"
   ]
  },
  {
   "cell_type": "code",
   "execution_count": 34,
   "metadata": {},
   "outputs": [
    {
     "data": {
      "text/plain": [
       "0.14285714285714285"
      ]
     },
     "execution_count": 34,
     "metadata": {},
     "output_type": "execute_result"
    }
   ],
   "source": [
    "f1 = 1.0\n",
    "f2 = 7.0\n",
    "f1 / f2"
   ]
  },
  {
   "cell_type": "code",
   "execution_count": 36,
   "metadata": {},
   "outputs": [
    {
     "data": {
      "text/plain": [
       "(decimal.Decimal, float)"
      ]
     },
     "execution_count": 36,
     "metadata": {},
     "output_type": "execute_result"
    }
   ],
   "source": [
    "type(d1 / d2), type(f1 / f2)"
   ]
  },
  {
   "cell_type": "code",
   "execution_count": null,
   "metadata": {},
   "outputs": [],
   "source": []
  }
 ],
 "metadata": {
  "kernelspec": {
   "display_name": "Python 3",
   "language": "python",
   "name": "python3"
  },
  "language_info": {
   "codemirror_mode": {
    "name": "ipython",
    "version": 3
   },
   "file_extension": ".py",
   "mimetype": "text/x-python",
   "name": "python",
   "nbconvert_exporter": "python",
   "pygments_lexer": "ipython3",
   "version": "3.11.1 (tags/v3.11.1:a7a450f, Dec  6 2022, 19:58:39) [MSC v.1934 64 bit (AMD64)]"
  },
  "orig_nbformat": 4,
  "vscode": {
   "interpreter": {
    "hash": "3ad6ab5bf69b3f01eede08b8193b591792dad47a0564701e6a725132e914f0e1"
   }
  }
 },
 "nbformat": 4,
 "nbformat_minor": 2
}
