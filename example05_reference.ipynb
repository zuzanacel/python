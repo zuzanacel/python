{
 "cells": [
  {
   "attachments": {},
   "cell_type": "markdown",
   "metadata": {},
   "source": [
    "# BubbleSort\n",
    "\n",
    "![bubble](bubble.png)\n"
   ]
  },
  {
   "cell_type": "code",
   "execution_count": 6,
   "metadata": {},
   "outputs": [
    {
     "name": "stdout",
     "output_type": "stream",
     "text": [
      "[1, 2, 4, 5, 8]\n"
     ]
    }
   ],
   "source": [
    "arr = [5, 1, 4, 2, 8]\n",
    "n = len(arr)\n",
    "swapped = False\n",
    "for i in range(n-1):\n",
    "    for j in range(0,n-i-1):\n",
    "        if arr[j] > arr[j+1]:\n",
    "            swapped = True\n",
    "            arr[j],arr[j+1] = arr[j+1],arr[j]\n",
    "    if not swapped:\n",
    "        break\n",
    "print(arr)                "
   ]
  },
  {
   "cell_type": "code",
   "execution_count": 9,
   "metadata": {},
   "outputs": [
    {
     "name": "stdout",
     "output_type": "stream",
     "text": [
      "[1, 2, 4, 5, 8]\n"
     ]
    }
   ],
   "source": [
    "n = len(arr)\n",
    "swapped = False\n",
    "for i in range(n-1):\n",
    "    for j in range(0, n-i-1):\n",
    "        if arr[j] > arr[j + 1]:\n",
    "            swapped = True\n",
    "            arr[j], arr[j + 1] = arr[j + 1], arr[j]      \n",
    "    if not swapped:\n",
    "        break\n",
    "print(arr)"
   ]
  },
  {
   "attachments": {},
   "cell_type": "markdown",
   "metadata": {},
   "source": [
    "# Insertion Sort\n",
    "\n",
    "![insertion](insertion.png)\n"
   ]
  },
  {
   "cell_type": "code",
   "execution_count": 12,
   "metadata": {},
   "outputs": [],
   "source": [
    "arr = [85, 12, 59, 45, 72, 51]"
   ]
  },
  {
   "cell_type": "code",
   "execution_count": 13,
   "metadata": {},
   "outputs": [
    {
     "name": "stdout",
     "output_type": "stream",
     "text": [
      "[12, 45, 51, 59, 72, 85]\n"
     ]
    }
   ],
   "source": [
    "if (n := len(arr)) > 1:\n",
    "    for i in range(1, n):\n",
    "        key = arr[i]\n",
    "        j = i-1\n",
    "        while j >=0 and key < arr[j] :\n",
    "                arr[j+1] = arr[j]\n",
    "                j -= 1\n",
    "        arr[j+1] = key\n",
    "print(arr)"
   ]
  },
  {
   "attachments": {},
   "cell_type": "markdown",
   "metadata": {},
   "source": [
    "# Selection Sort\n",
    "\n",
    "![selection](selection.png)"
   ]
  },
  {
   "cell_type": "code",
   "execution_count": 15,
   "metadata": {},
   "outputs": [],
   "source": [
    "arr = [29, 72, 98, 13, 87, 66, 52, 51, 36]"
   ]
  },
  {
   "cell_type": "code",
   "execution_count": 16,
   "metadata": {},
   "outputs": [
    {
     "name": "stdout",
     "output_type": "stream",
     "text": [
      "[13, 29, 36, 51, 52, 66, 72, 87, 98]\n"
     ]
    }
   ],
   "source": [
    "for ind in range(len(arr)):\n",
    "    min_index = ind\n",
    "    for j in range(ind + 1, len(arr)):\n",
    "        if arr[j] < arr[min_index]:\n",
    "            min_index = j\n",
    "    arr[ind], arr[min_index] = arr[min_index], arr[ind]\n",
    "print(arr)"
   ]
  },
  {
   "attachments": {},
   "cell_type": "markdown",
   "metadata": {},
   "source": [
    "# Search in Array"
   ]
  },
  {
   "cell_type": "code",
   "execution_count": 20,
   "metadata": {},
   "outputs": [],
   "source": [
    "arr = [1, 9, 11, 21, 34, 54, 67, 90]"
   ]
  },
  {
   "cell_type": "code",
   "execution_count": 31,
   "metadata": {},
   "outputs": [
    {
     "name": "stdout",
     "output_type": "stream",
     "text": [
      "Not found.\n"
     ]
    }
   ],
   "source": [
    "# Normal search\n",
    "elem_to_search = 5\n",
    "for i, element in enumerate(arr): \n",
    "    if element == elem_to_search:\n",
    "        print(\"Found! At position\", i)\n",
    "        break\n",
    "else:\n",
    "    print(\"Not found.\")"
   ]
  },
  {
   "attachments": {},
   "cell_type": "markdown",
   "metadata": {},
   "source": [
    "# Binary Search\n",
    "![binary](binary.jpeg)"
   ]
  },
  {
   "cell_type": "code",
   "execution_count": 33,
   "metadata": {},
   "outputs": [
    {
     "name": "stdout",
     "output_type": "stream",
     "text": [
      "Not found\n"
     ]
    }
   ],
   "source": [
    "elem_to_search = 5\n",
    "low = 0\n",
    "high = len(arr) - 1\n",
    "mid = 0\n",
    "while low <= high:\n",
    "    mid = (high + low) // 2\n",
    "    if arr[mid] < elem_to_search:\n",
    "        low = mid + 1\n",
    "    elif arr[mid] > elem_to_search:\n",
    "        high = mid - 1\n",
    "    else:\n",
    "        print(\"Found! At position\", mid)\n",
    "        break\n",
    "else:\n",
    "    print(\"Not found\")"
   ]
  },
  {
   "attachments": {},
   "cell_type": "markdown",
   "metadata": {},
   "source": [
    "# Running Sum\n",
    "![running](running.webp)"
   ]
  },
  {
   "cell_type": "code",
   "execution_count": 19,
   "metadata": {},
   "outputs": [
    {
     "name": "stdout",
     "output_type": "stream",
     "text": [
      "[3, 4, 6, 16, 17]\n"
     ]
    }
   ],
   "source": [
    "arr = [3, 1, 2, 10, 1]\n",
    "running_sum = [arr[0]]\n",
    "for i in range(1, len(arr)): \n",
    "    next_element = running_sum[-1] + arr[i]\n",
    "    running_sum.append(next_element)\n",
    "print(running_sum)"
   ]
  },
  {
   "attachments": {},
   "cell_type": "markdown",
   "metadata": {},
   "source": [
    "# Matrix Multiplication\n",
    "![matmul](matmul.svg)"
   ]
  },
  {
   "cell_type": "code",
   "execution_count": 35,
   "metadata": {},
   "outputs": [],
   "source": [
    "X = [\n",
    "    [1, 2],\n",
    "    [3, 4]\n",
    "]  # 2x2\n",
    "Y = [\n",
    "    [5, 6],\n",
    "    [7, 8]\n",
    "]  # 2x2\n",
    "result = [\n",
    "    [0, 0],\n",
    "    [0, 0]\n",
    "]  # 2x2"
   ]
  },
  {
   "cell_type": "code",
   "execution_count": 36,
   "metadata": {},
   "outputs": [
    {
     "name": "stdout",
     "output_type": "stream",
     "text": [
      "[[19, 22], [43, 50]]\n"
     ]
    }
   ],
   "source": [
    "for i in range(len(X)):\n",
    "   for j in range(len(Y[0])):\n",
    "       for k in range(len(Y)):\n",
    "           result[i][j] += X[i][k] * Y[k][j]\n",
    "print(result)"
   ]
  },
  {
   "attachments": {},
   "cell_type": "markdown",
   "metadata": {},
   "source": [
    "# Maximum Words in Sentence"
   ]
  },
  {
   "cell_type": "code",
   "execution_count": 37,
   "metadata": {},
   "outputs": [],
   "source": [
    "text = \"\"\"\n",
    "Python je vysokoúrovňový programovací jazyk, který v roce 1991 navrhl Guido van Rossum. \n",
    "Nabízí dynamickou kontrolu datových typů a podporuje různá programovací paradigmata, \n",
    "včetně objektově orientovaného, imperativního nebo funkcionálního. \n",
    "V roce 2018 vzrostla jeho popularita a zařadil se mezi nejoblíbenější jazyky. \n",
    "V řadě různých žebříčků dosahuje jedno z prvních třech míst, výjimkou nebývají první místa.\n",
    "\"\"\" "
   ]
  },
  {
   "cell_type": "code",
   "execution_count": 42,
   "metadata": {},
   "outputs": [
    {
     "name": "stdout",
     "output_type": "stream",
     "text": [
      "Nejdelsi veta je veta #2:\n",
      "Nabízí dynamickou kontrolu datových typů a podporuje různá programovací paradigmata, včetně objektově orientovaného, imperativního nebo funkcionálního\n"
     ]
    }
   ],
   "source": [
    "sentences = text.replace(\"\\n\", \"\").split(\". \")\n",
    "max_n_words, longest_sentence_idx = 0, 0\n",
    "for i, sentence in enumerate(sentences):\n",
    "    if len(sentence) > max_n_words:\n",
    "        max_n_words = len(sentence)\n",
    "        longest_sentence_idx = i\n",
    "print(f\"Nejdelsi veta je veta #{longest_sentence_idx+1}:\")\n",
    "print(sentences[longest_sentence_idx])"
   ]
  },
  {
   "attachments": {},
   "cell_type": "markdown",
   "metadata": {},
   "source": [
    "# Pangram"
   ]
  },
  {
   "cell_type": "code",
   "execution_count": 43,
   "metadata": {},
   "outputs": [],
   "source": [
    "s1 = \"The quick brown fox jumps over the lazy dog.\"  # => True\n",
    "s2 = \"Python is a very nice programming language.\"  # => False\n",
    "all_symb = \"abcdefghijklmnopqrstuvwxyz\""
   ]
  },
  {
   "cell_type": "code",
   "execution_count": 45,
   "metadata": {},
   "outputs": [
    {
     "name": "stdout",
     "output_type": "stream",
     "text": [
      "Not a pangram.\n"
     ]
    }
   ],
   "source": [
    "sentence = s2\n",
    "ref = {symbol: False for symbol in all_symb}\n",
    "for i in sentence: \n",
    "    ref[i] = True\n",
    "for i in ref: \n",
    "    if not ref[i]: \n",
    "        print(\"Not a pangram.\")\n",
    "        break \n",
    "else: \n",
    "    print(\"Is a pangram.\")"
   ]
  },
  {
   "attachments": {},
   "cell_type": "markdown",
   "metadata": {},
   "source": [
    "# Remove Parentheses\n",
    "\n",
    "* `(()())(())` ----> `()()()`\n",
    "* `(()())(())(()(()))` ----> `()()()()(())`\n",
    "* `()()` ----> ` `"
   ]
  },
  {
   "cell_type": "code",
   "execution_count": 47,
   "metadata": {},
   "outputs": [],
   "source": [
    "s1 = \"(()())(())\"\n",
    "s2 = \"(()())(())(()(()))\"\n",
    "s3 = \"()()\""
   ]
  },
  {
   "cell_type": "code",
   "execution_count": 50,
   "metadata": {},
   "outputs": [
    {
     "name": "stdout",
     "output_type": "stream",
     "text": [
      "\n"
     ]
    }
   ],
   "source": [
    "s = s3\n",
    "c, j, n = 0, 0, len(s)\n",
    "ans = []\n",
    "for i in range(n):\n",
    "    if s[i]=='(':\n",
    "        c+=1 \n",
    "    else:\n",
    "        c-=1 \n",
    "        if c==0:\n",
    "            ans.append(s[j+1:i])\n",
    "            j = i + 1 \n",
    "ans = ''.join(ans)\n",
    "print(ans)"
   ]
  },
  {
   "attachments": {},
   "cell_type": "markdown",
   "metadata": {},
   "source": [
    "# Groups\n",
    "```\n",
    "+------------+------------+\n",
    "| Datum      | Produkt    |\n",
    "+------------+------------+\n",
    "| 2022-02-20 | Mleko      |\n",
    "| 2022-03-01 | Maslo      |\n",
    "| 2022-03-01 | Kureci maso|\n",
    "| 2022-03-04 | Chleba     |\n",
    "| 2022-04-02 | Syr        |\n",
    "| 2022-04-02 | Prosciutto |\n",
    "| 2022-03-04 | Klobasa    |\n",
    "| 2022-04-02 | Vino       |\n",
    "+------------+------------+\n",
    "```\n",
    "\n",
    "-------->\n",
    "\n",
    "```\n",
    "+------------+----------------------+-----+\n",
    "| Datum      | Produkty             |  #\n",
    "+------------+----------------------+-----+\n",
    "| 2022-02-20 | Mleko                |  1\n",
    "| 2022-03-01 | Maslo, Kureci maso   |  2\n",
    "| 2022-03-04 | Chleba, Klobasa      |  2\n",
    "| 2022-04-02 | Syr, Prosciutto, Vino|  3\n",
    "+------------+----------------------+-----+\n",
    "```\n"
   ]
  },
  {
   "cell_type": "code",
   "execution_count": 51,
   "metadata": {},
   "outputs": [],
   "source": [
    "text = \"\"\"\n",
    "+------------+------------+\n",
    "| Datum      | Produkt    |\n",
    "+------------+------------+\n",
    "| 2022-02-20 | Mleko      |\n",
    "| 2022-03-01 | Maslo      |\n",
    "| 2022-03-01 | Kureci maso|\n",
    "| 2022-03-04 | Chleba     |\n",
    "| 2022-04-02 | Syr        |\n",
    "| 2022-04-02 | Prosciutto |\n",
    "| 2022-03-04 | Klobasa    |\n",
    "+------------+------------+\n",
    "\"\"\""
   ]
  },
  {
   "cell_type": "code",
   "execution_count": 62,
   "metadata": {},
   "outputs": [
    {
     "name": "stdout",
     "output_type": "stream",
     "text": [
      "2022-02-20 Mleko\n",
      "2022-03-01 Maslo\n",
      "2022-03-01 Kureci maso\n",
      "2022-03-04 Chleba\n",
      "2022-04-02 Syr\n",
      "2022-04-02 Prosciutto\n",
      "2022-03-04 Klobasa\n"
     ]
    }
   ],
   "source": [
    "d = {}\n",
    "for i, line in enumerate(text.split(\"\\n\")):\n",
    "    if i < 4:\n",
    "        continue\n",
    "    elems = line.split(\" | \")\n",
    "    if len(elems) < 2:\n",
    "        break \n",
    "    date = elems[0][2:]\n",
    "    item = elems[1].replace(\"|\", \"\").rstrip()\n",
    "    print(date, item)"
   ]
  },
  {
   "cell_type": "code",
   "execution_count": 63,
   "metadata": {},
   "outputs": [
    {
     "name": "stdout",
     "output_type": "stream",
     "text": [
      "1 1\n",
      "2 2\n",
      "3 3\n",
      "4 4\n"
     ]
    }
   ],
   "source": [
    "l1 = [1, 2, 3, 4]\n",
    "l2 = [1, 2, 3, 4, 5, 6]\n",
    "for (i,j) in zip(l1, l2):\n",
    "    print(i,j)"
   ]
  },
  {
   "attachments": {},
   "cell_type": "markdown",
   "metadata": {},
   "source": [
    "# Merge Strings Alternately"
   ]
  },
  {
   "cell_type": "code",
   "execution_count": 69,
   "metadata": {},
   "outputs": [],
   "source": [
    "s1 = \"Pto savr iepormiglnug!\"\n",
    "s2 = \"yhni  eync rgamn agae\"\n",
    "# ---> Python is a very nice programming language!"
   ]
  },
  {
   "cell_type": "code",
   "execution_count": 72,
   "metadata": {},
   "outputs": [
    {
     "name": "stdout",
     "output_type": "stream",
     "text": [
      "Python is a very nice programming language!\n"
     ]
    }
   ],
   "source": [
    "s = []\n",
    "for e1, e2 in zip(s1, s2):\n",
    "    s.append(e1)\n",
    "    s.append(e2)\n",
    "s = \"\".join(s)\n",
    "if len(s1) < len(s2):\n",
    "    s += s2[len(s1):]\n",
    "else:\n",
    "    s += s1[len(s2):]\n",
    "print(s)"
   ]
  },
  {
   "attachments": {},
   "cell_type": "markdown",
   "metadata": {},
   "source": [
    "# Bonus: Add Binary"
   ]
  },
  {
   "cell_type": "code",
   "execution_count": 1,
   "metadata": {},
   "outputs": [],
   "source": [
    "a = \"11\"\n",
    "b = \"1\""
   ]
  },
  {
   "cell_type": "code",
   "execution_count": 2,
   "metadata": {},
   "outputs": [
    {
     "name": "stdout",
     "output_type": "stream",
     "text": [
      "100\n"
     ]
    }
   ],
   "source": [
    "result = []\n",
    "carry = 0\n",
    "\n",
    "i, j = len(a) - 1, len(b)-1\n",
    "\n",
    "while i >= 0 or j >= 0 or carry:\n",
    "    total = carry\n",
    "    if i >= 0:\n",
    "        total += int(a[i])\n",
    "        i -= 1\n",
    "    if j >= 0:\n",
    "        total += int(b[j])\n",
    "        j -= 1\n",
    "    result.append(str(total % 2))\n",
    "    carry = total // 2\n",
    "    \n",
    "result = ''.join(reversed(result))\n",
    "print(result)"
   ]
  },
  {
   "cell_type": "code",
   "execution_count": null,
   "metadata": {},
   "outputs": [],
   "source": []
  }
 ],
 "metadata": {
  "kernelspec": {
   "display_name": "Python 3",
   "language": "python",
   "name": "python3"
  },
  "language_info": {
   "codemirror_mode": {
    "name": "ipython",
    "version": 3
   },
   "file_extension": ".py",
   "mimetype": "text/x-python",
   "name": "python",
   "nbconvert_exporter": "python",
   "pygments_lexer": "ipython3",
   "version": "3.11.1"
  },
  "orig_nbformat": 4,
  "vscode": {
   "interpreter": {
    "hash": "3ad6ab5bf69b3f01eede08b8193b591792dad47a0564701e6a725132e914f0e1"
   }
  }
 },
 "nbformat": 4,
 "nbformat_minor": 2
}
