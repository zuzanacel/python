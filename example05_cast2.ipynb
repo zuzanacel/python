{
 "cells": [
  {
   "attachments": {},
   "cell_type": "markdown",
   "metadata": {},
   "source": [
    "# Sorted"
   ]
  },
  {
   "cell_type": "code",
   "execution_count": 75,
   "metadata": {},
   "outputs": [],
   "source": [
    "arr1 = [5, 1, 4, 2, 8]    # => False\n",
    "arr2 = [1, 5, 7, 10, 15]  # => True\n",
    "# arr2 = [15, 10, 7, 5, 1] # => True "
   ]
  },
  {
   "cell_type": "code",
   "execution_count": 78,
   "metadata": {},
   "outputs": [
    {
     "name": "stdout",
     "output_type": "stream",
     "text": [
      "True\n"
     ]
    }
   ],
   "source": [
    "arr = arr2\n",
    "print(arr == sorted(arr))\n",
    "# if arr == sorted(arr):\n",
    "#     print(True) \n",
    "# else:\n",
    "#     print(False)"
   ]
  },
  {
   "cell_type": "code",
   "execution_count": 82,
   "metadata": {},
   "outputs": [
    {
     "name": "stdout",
     "output_type": "stream",
     "text": [
      "1 2\n",
      "2 3\n",
      "3 4\n",
      "4 5\n",
      "Sorted\n"
     ]
    }
   ],
   "source": [
    "arr = arr2\n",
    "for i in range(1, len(arr)):\n",
    "    print(arr[i-1], arr[i])\n",
    "    if arr[i - 1] > arr[i]:\n",
    "        print(\"Not sorted\")\n",
    "        break \n",
    "    else:\n",
    "        continue \n",
    "else:\n",
    "    print(\"Sorted\")"
   ]
  },
  {
   "cell_type": "code",
   "execution_count": 84,
   "metadata": {},
   "outputs": [
    {
     "data": {
      "text/plain": [
       "[1, 2, 3, 4, 5]"
      ]
     },
     "execution_count": 84,
     "metadata": {},
     "output_type": "execute_result"
    }
   ],
   "source": [
    "sorted(arr)"
   ]
  },
  {
   "attachments": {},
   "cell_type": "markdown",
   "metadata": {},
   "source": [
    "# BubbleSort\n",
    "\n",
    "![bubble](bubble.png)\n"
   ]
  },
  {
   "cell_type": "code",
   "execution_count": 101,
   "metadata": {},
   "outputs": [],
   "source": [
    "arr = [5, 1, 4, 2, 8]"
   ]
  },
  {
   "cell_type": "code",
   "execution_count": 103,
   "metadata": {},
   "outputs": [
    {
     "name": "stdout",
     "output_type": "stream",
     "text": [
      "0..... 4\n",
      "5 1\n",
      "5 4\n",
      "5 2\n",
      "5 8\n",
      "[1, 4, 2, 5, 8]\n",
      "0..... 3\n",
      "1 4\n",
      "4 2\n",
      "4 5\n",
      "[1, 2, 4, 5, 8]\n",
      "0..... 2\n",
      "1 2\n",
      "2 4\n",
      "[1, 2, 4, 5, 8]\n",
      "0..... 1\n",
      "1 2\n",
      "[1, 2, 4, 5, 8]\n"
     ]
    }
   ],
   "source": [
    "arr = [5, 1, 4, 2, 8]\n",
    "n = len(arr)\n",
    "for i in range(n - 1):\n",
    "    print(\"0.....\", n-i-1)\n",
    "    for j in range(0, n - i - 1):\n",
    "        print(arr[j], arr[j + 1])\n",
    "        if arr[j] > arr[j + 1]:\n",
    "            arr[j], arr[j + 1] = arr[j + 1], arr[j]\n",
    "            swapped = True \n",
    "    if not swapped:\n",
    "        break\n",
    "    else:\n",
    "        print(arr)"
   ]
  },
  {
   "attachments": {},
   "cell_type": "markdown",
   "metadata": {},
   "source": [
    "# Insertion Sort\n",
    "\n",
    "![insertion](insertion.png)\n"
   ]
  },
  {
   "cell_type": "code",
   "execution_count": 104,
   "metadata": {},
   "outputs": [
    {
     "data": {
      "text/plain": [
       "[]"
      ]
     },
     "execution_count": 104,
     "metadata": {},
     "output_type": "execute_result"
    }
   ],
   "source": [
    "arr = [85, 12, 59, 45, 72, 51]\n",
    "[85]  #sorted \n",
    "[12, 59, 45, 72, 51] #unsorted"
   ]
  },
  {
   "cell_type": "code",
   "execution_count": 105,
   "metadata": {},
   "outputs": [
    {
     "name": "stdout",
     "output_type": "stream",
     "text": [
      "[12, 85, 59, 45, 72, 51]\n",
      "[12, 59, 85, 45, 72, 51]\n",
      "[12, 45, 59, 85, 72, 51]\n",
      "[12, 45, 59, 72, 85, 51]\n",
      "[12, 45, 51, 59, 72, 85]\n"
     ]
    }
   ],
   "source": [
    "if (n := len(arr)) > 1:\n",
    "    for i in range(1, n):\n",
    "        v = arr[i]  # i == 1,  v = arr[1] == 12\n",
    "        j = i - 1   # j == 0\n",
    "        while j >= 0 and v < arr[j]:\n",
    "            arr[j + 1] = arr[j]\n",
    "            j -= 1\n",
    "        arr[j + 1] = v \n",
    "        print(arr)\n"
   ]
  },
  {
   "attachments": {},
   "cell_type": "markdown",
   "metadata": {},
   "source": [
    "# Selection Sort\n",
    "\n",
    "![selection](selection.png)"
   ]
  },
  {
   "cell_type": "code",
   "execution_count": 15,
   "metadata": {},
   "outputs": [],
   "source": [
    "arr = [              29, 72, 98, 13, 87, 66, 52, 51, 36]\n",
    "#        <---sorted  # unsorted --->\n",
    "[]  # sorted \n",
    "[29, 72, 98, 13, 87, 66, 52, 51, 36]  # unsorted"
   ]
  },
  {
   "cell_type": "code",
   "execution_count": 115,
   "metadata": {},
   "outputs": [
    {
     "data": {
      "text/plain": [
       "(1, 2)"
      ]
     },
     "execution_count": 115,
     "metadata": {},
     "output_type": "execute_result"
    }
   ],
   "source": [
    "a = 1\n",
    "b = 2\n",
    "a, b"
   ]
  },
  {
   "cell_type": "code",
   "execution_count": 116,
   "metadata": {},
   "outputs": [
    {
     "data": {
      "text/plain": [
       "(2, 1)"
      ]
     },
     "execution_count": 116,
     "metadata": {},
     "output_type": "execute_result"
    }
   ],
   "source": [
    "t = a \n",
    "a = b \n",
    "b = t\n",
    "a, b"
   ]
  },
  {
   "cell_type": "code",
   "execution_count": 118,
   "metadata": {},
   "outputs": [
    {
     "data": {
      "text/plain": [
       "(2, 1)"
      ]
     },
     "execution_count": 118,
     "metadata": {},
     "output_type": "execute_result"
    }
   ],
   "source": [
    "a = 1 \n",
    "b = 2\n",
    "a, b = b, a\n",
    "a, b"
   ]
  },
  {
   "cell_type": "code",
   "execution_count": 119,
   "metadata": {},
   "outputs": [],
   "source": [
    "a, b, c, d, e, f = 1, 2, 3, 4, 5, 6"
   ]
  },
  {
   "cell_type": "code",
   "execution_count": 114,
   "metadata": {},
   "outputs": [
    {
     "name": "stdout",
     "output_type": "stream",
     "text": [
      "[13, 72, 98, 29, 87, 66, 52, 51, 36]\n",
      "[13, 29, 98, 72, 87, 66, 52, 51, 36]\n",
      "[13, 29, 36, 72, 87, 66, 52, 51, 98]\n",
      "[13, 29, 36, 51, 87, 66, 52, 72, 98]\n",
      "[13, 29, 36, 51, 52, 66, 87, 72, 98]\n",
      "[13, 29, 36, 51, 52, 66, 87, 72, 98]\n",
      "[13, 29, 36, 51, 52, 66, 72, 87, 98]\n",
      "[13, 29, 36, 51, 52, 66, 72, 87, 98]\n",
      "[13, 29, 36, 51, 52, 66, 72, 87, 98]\n"
     ]
    }
   ],
   "source": [
    "arr = [29, 72, 98, 13, 87, 66, 52, 51, 36]\n",
    "ind = 0\n",
    "for ind in range(len(arr)):\n",
    "    min_index = ind  \n",
    "    for j in range(ind + 1, len(arr)): \n",
    "        if arr[j] < arr[min_index]:  # 13 < 29 == > True\n",
    "            min_index = j  # 3\n",
    "    arr[ind], arr[min_index] = arr[min_index], arr[ind]\n",
    "    print(arr)"
   ]
  },
  {
   "attachments": {},
   "cell_type": "markdown",
   "metadata": {},
   "source": [
    "# Search in Array"
   ]
  },
  {
   "cell_type": "code",
   "execution_count": 123,
   "metadata": {},
   "outputs": [],
   "source": [
    "arr = [1, 9, 11, 21, 34, 54, 67, 90]"
   ]
  },
  {
   "cell_type": "code",
   "execution_count": 126,
   "metadata": {},
   "outputs": [
    {
     "name": "stdout",
     "output_type": "stream",
     "text": [
      "Found at 2\n"
     ]
    }
   ],
   "source": [
    "# Normal search\n",
    "elem_to_search = 11\n",
    "\n",
    "for i, el in enumerate(arr): \n",
    "    if el == elem_to_search:\n",
    "        print(f\"Found at {i}\")\n",
    "        break\n",
    "else:\n",
    "    print(\"Not found\")"
   ]
  },
  {
   "attachments": {},
   "cell_type": "markdown",
   "metadata": {},
   "source": [
    "# Binary Search\n",
    "![binary](binary.jpeg)"
   ]
  },
  {
   "cell_type": "code",
   "execution_count": null,
   "metadata": {},
   "outputs": [
    {
     "name": "stdout",
     "output_type": "stream",
     "text": [
      "Not found\n"
     ]
    }
   ],
   "source": [
    "elem_to_search = 5\n"
   ]
  },
  {
   "attachments": {},
   "cell_type": "markdown",
   "metadata": {},
   "source": [
    "# Running Sum\n",
    "![running](running.webp)"
   ]
  },
  {
   "cell_type": "code",
   "execution_count": 131,
   "metadata": {},
   "outputs": [
    {
     "name": "stdout",
     "output_type": "stream",
     "text": [
      "10\n"
     ]
    },
    {
     "data": {
      "text/plain": [
       "[1, 3, 6, 10]"
      ]
     },
     "execution_count": 131,
     "metadata": {},
     "output_type": "execute_result"
    }
   ],
   "source": [
    "arr = [1, 2, 3, 4]\n",
    "\n",
    "n = len(arr)\n",
    "soucet = 0\n",
    "sums = []\n",
    "for i in arr:\n",
    "    soucet += i\n",
    "    sums.append(soucet)\n",
    "print(soucet)\n",
    "sums"
   ]
  },
  {
   "attachments": {},
   "cell_type": "markdown",
   "metadata": {},
   "source": [
    "# Matrix Multiplication\n",
    "![matmul](matmul.svg)"
   ]
  },
  {
   "cell_type": "code",
   "execution_count": 132,
   "metadata": {},
   "outputs": [],
   "source": [
    "X = [\n",
    "    [1, 2],  # index 0\n",
    "    [3, 4]   # index 1\n",
    "]  # 2x2     # delka 2  ----->  2 radky\n",
    "Y = [\n",
    "    [5, 6],\n",
    "    [7, 8]\n",
    "]  # 2x2\n",
    "result = [\n",
    "    [0, 0],\n",
    "    [0, 0]\n",
    "]  # 2x2"
   ]
  },
  {
   "cell_type": "code",
   "execution_count": 134,
   "metadata": {},
   "outputs": [
    {
     "name": "stdout",
     "output_type": "stream",
     "text": [
      "[[19, 22], [43, 50]]\n"
     ]
    }
   ],
   "source": [
    "for i in range(2):  #  radek v A\n",
    "    for j in range(2):  # sloupec v B\n",
    "        for k in range(2):  \n",
    "            result[i][j] += X[i][k] * Y[k][j]\n",
    "print(result)"
   ]
  },
  {
   "attachments": {},
   "cell_type": "markdown",
   "metadata": {},
   "source": [
    "# Maximum Words in Sentence"
   ]
  },
  {
   "cell_type": "code",
   "execution_count": 136,
   "metadata": {},
   "outputs": [],
   "source": [
    "text = \"\"\"\n",
    "Python je vysokoúrovňový programovací jazyk, který v roce 1991 navrhl Guido van Rossum. \n",
    "Nabízí dynamickou kontrolu datových typů a podporuje různá programovací paradigmata, \n",
    "včetně objektově orientovaného, imperativního nebo funkcionálního. \n",
    "V roce 2018 vzrostla jeho popularita a zařadil se mezi nejoblíbenější jazyky. \n",
    "V řadě různých žebříčků dosahuje jedno z prvních třech míst, výjimkou nebývají první místa.\n",
    "\"\"\" "
   ]
  },
  {
   "cell_type": "code",
   "execution_count": 149,
   "metadata": {},
   "outputs": [
    {
     "name": "stdout",
     "output_type": "stream",
     "text": [
      "Nabízí dynamickou kontrolu datových typů a podporuje různá programovací paradigmata, včetně objektově orientovaného, imperativního nebo funkcionálního\n"
     ]
    }
   ],
   "source": [
    "# .split()\n",
    "\n",
    "sentences = text.replace(\"\\n\", \"\").split(\".\")\n",
    "max_n = 0\n",
    "longest_sentence = None\n",
    "for sentence in sentences:\n",
    "    sentence = sentence.lstrip().split(\" \")\n",
    "    if len(sentence) > max_n: \n",
    "        max_n = len(sentence)\n",
    "        longest_sentence = sentence\n",
    "print(\" \".join(longest_sentence))"
   ]
  },
  {
   "attachments": {},
   "cell_type": "markdown",
   "metadata": {},
   "source": [
    "# Pangram"
   ]
  },
  {
   "cell_type": "code",
   "execution_count": 150,
   "metadata": {},
   "outputs": [],
   "source": [
    "s1 = \"the quick brown fox jumps over the lazy dog.\"  # => True\n",
    "s2 = \"python is a very nice programming language.\"  # => False\n",
    "all_symb = \"abcdefghijklmnopqrstuvwxyz\""
   ]
  },
  {
   "cell_type": "code",
   "execution_count": 162,
   "metadata": {},
   "outputs": [
    {
     "name": "stdout",
     "output_type": "stream",
     "text": [
      "python is a very nice programming language.\n"
     ]
    },
    {
     "data": {
      "text/plain": [
       "False"
      ]
     },
     "execution_count": 162,
     "metadata": {},
     "output_type": "execute_result"
    }
   ],
   "source": [
    "s = s2\n",
    "print(s) \n",
    "all_symb in s"
   ]
  },
  {
   "cell_type": "code",
   "execution_count": 164,
   "metadata": {},
   "outputs": [
    {
     "data": {
      "text/plain": [
       "False"
      ]
     },
     "execution_count": 164,
     "metadata": {},
     "output_type": "execute_result"
    }
   ],
   "source": [
    "{symbol for symbol in s if symbol in all_symb} == set(all_symb)"
   ]
  },
  {
   "cell_type": "code",
   "execution_count": 165,
   "metadata": {},
   "outputs": [
    {
     "name": "stdout",
     "output_type": "stream",
     "text": [
      "{'a': True, 'b': False, 'c': True, 'd': False, 'e': True, 'f': False, 'g': True, 'h': True, 'i': True, 'j': False, 'k': False, 'l': True, 'm': True, 'n': True, 'o': True, 'p': True, 'q': False, 'r': True, 's': True, 't': True, 'u': True, 'v': True, 'w': False, 'x': False, 'y': True, 'z': False, ' ': True, '.': True}\n"
     ]
    }
   ],
   "source": [
    "d = {symbol: False for symbol in all_symb}\n",
    "for element in s:\n",
    "    d[element] = True \n",
    "print(d)"
   ]
  },
  {
   "cell_type": "code",
   "execution_count": 166,
   "metadata": {},
   "outputs": [
    {
     "name": "stdout",
     "output_type": "stream",
     "text": [
      "Not a pangram\n"
     ]
    }
   ],
   "source": [
    "for i in d: \n",
    "    if not d[i]: \n",
    "        print(\"Not a pangram\")\n",
    "        break \n",
    "else: \n",
    "    print(\"Is a pangram.\")"
   ]
  },
  {
   "attachments": {},
   "cell_type": "markdown",
   "metadata": {},
   "source": [
    "# Remove Parentheses\n",
    "\n",
    "* `(()())(())` ----> `()()()`\n",
    "* `(()())(())(()(()))` ----> `()()()()(())`\n",
    "* `()()` ----> ` `"
   ]
  },
  {
   "cell_type": "code",
   "execution_count": 168,
   "metadata": {},
   "outputs": [],
   "source": [
    "s1 = \"(()())(())\"  # s1[1:-1]\n",
    "s2 = \"(()())(())(()(()))\"\n",
    "s3 = \"()()\""
   ]
  },
  {
   "cell_type": "code",
   "execution_count": null,
   "metadata": {},
   "outputs": [
    {
     "name": "stdout",
     "output_type": "stream",
     "text": [
      "\n"
     ]
    }
   ],
   "source": [
    "(()())     (())\n",
    "# \n",
    "(()()) (())   (()(()))\n",
    "()()"
   ]
  },
  {
   "cell_type": "code",
   "execution_count": null,
   "metadata": {},
   "outputs": [],
   "source": [
    "(()())\n",
    "# o 1, z 0\n",
    "# o 2, z 0\n",
    "# o 2, z 1\n",
    "# o 3, z 1\n",
    "# o 3, z 2\n",
    "# o 3, z 3 !!!!!"
   ]
  },
  {
   "cell_type": "code",
   "execution_count": 173,
   "metadata": {},
   "outputs": [
    {
     "name": "stdout",
     "output_type": "stream",
     "text": [
      "()()\n",
      "()\n"
     ]
    }
   ],
   "source": [
    "o = 0 \n",
    "z = 0 \n",
    "j = 0\n",
    "s = s1 \n",
    "res = []\n",
    "for i in range(len(s)):\n",
    "    if s[i] == \"(\":\n",
    "        o += 1 \n",
    "    else:  # if s[i] == \")\"\n",
    "        z += 1\n",
    "        if o == z: \n",
    "            print(s[j+1:i])\n",
    "            res.append(s[j+1:i])\n",
    "            j = i + 1 \n",
    "            \n"
   ]
  },
  {
   "cell_type": "code",
   "execution_count": null,
   "metadata": {},
   "outputs": [],
   "source": []
  },
  {
   "cell_type": "code",
   "execution_count": null,
   "metadata": {},
   "outputs": [],
   "source": [
    "s = s1 \n"
   ]
  },
  {
   "attachments": {},
   "cell_type": "markdown",
   "metadata": {},
   "source": [
    "# Groups\n",
    "```\n",
    "+------------+------------+\n",
    "| Datum      | Produkt    |\n",
    "+------------+------------+\n",
    "| 2022-02-20 | Mleko      |\n",
    "| 2022-03-01 | Maslo      |\n",
    "| 2022-03-01 | Kureci maso|\n",
    "| 2022-03-04 | Chleba     |\n",
    "| 2022-04-02 | Syr        |\n",
    "| 2022-04-02 | Prosciutto |\n",
    "| 2022-03-04 | Klobasa    |\n",
    "| 2022-04-02 | Vino       |\n",
    "+------------+------------+\n",
    "```\n",
    "\n",
    "-------->\n",
    "\n",
    "```\n",
    "+------------+----------------------+-----+\n",
    "| Datum      | Produkty             |  #\n",
    "+------------+----------------------+-----+\n",
    "| 2022-02-20 | Mleko                |  1\n",
    "| 2022-03-01 | Maslo, Kureci maso   |  2\n",
    "| 2022-03-04 | Chleba, Klobasa      |  2\n",
    "| 2022-04-02 | Syr, Prosciutto, Vino|  3\n",
    "+------------+----------------------+-----+\n",
    "```\n"
   ]
  },
  {
   "cell_type": "code",
   "execution_count": null,
   "metadata": {},
   "outputs": [],
   "source": [
    "text = \"\"\"\n",
    "+------------+------------+\n",
    "| Datum      | Produkt    |\n",
    "+------------+------------+\n",
    "| 2022-02-20 | Mleko      |\n",
    "| 2022-03-01 | Maslo      |\n",
    "| 2022-03-01 | Kureci maso|\n",
    "| 2022-03-04 | Chleba     |\n",
    "| 2022-04-02 | Syr        |\n",
    "| 2022-04-02 | Prosciutto |\n",
    "| 2022-03-04 | Klobasa    |\n",
    "+------------+------------+\n",
    "\"\"\""
   ]
  },
  {
   "cell_type": "code",
   "execution_count": null,
   "metadata": {},
   "outputs": [
    {
     "name": "stdout",
     "output_type": "stream",
     "text": [
      "2022-02-20 Mleko\n",
      "2022-03-01 Maslo\n",
      "2022-03-01 Kureci maso\n",
      "2022-03-04 Chleba\n",
      "2022-04-02 Syr\n",
      "2022-04-02 Prosciutto\n",
      "2022-03-04 Klobasa\n"
     ]
    }
   ],
   "source": []
  },
  {
   "attachments": {},
   "cell_type": "markdown",
   "metadata": {},
   "source": [
    "# Merge Strings Alternately"
   ]
  },
  {
   "cell_type": "code",
   "execution_count": null,
   "metadata": {},
   "outputs": [],
   "source": [
    "s1 = \"Pto savr iepormiglnug!\"\n",
    "s2 = \"yhni  eync rgamn agae\"\n",
    "# ---> Python is a very nice programming language!"
   ]
  },
  {
   "cell_type": "code",
   "execution_count": null,
   "metadata": {},
   "outputs": [
    {
     "name": "stdout",
     "output_type": "stream",
     "text": [
      "Python is a very nice programming language!\n"
     ]
    }
   ],
   "source": []
  },
  {
   "attachments": {},
   "cell_type": "markdown",
   "metadata": {},
   "source": [
    "# Bonus: Add Binary\n",
    "\n",
    "* 11 + 1 = 100\n",
    "* 1010 + 1011 = 10101"
   ]
  },
  {
   "cell_type": "code",
   "execution_count": null,
   "metadata": {},
   "outputs": [],
   "source": []
  }
 ],
 "metadata": {
  "kernelspec": {
   "display_name": "Python 3",
   "language": "python",
   "name": "python3"
  },
  "language_info": {
   "codemirror_mode": {
    "name": "ipython",
    "version": 3
   },
   "file_extension": ".py",
   "mimetype": "text/x-python",
   "name": "python",
   "nbconvert_exporter": "python",
   "pygments_lexer": "ipython3",
   "version": "3.8.2"
  },
  "orig_nbformat": 4,
  "vscode": {
   "interpreter": {
    "hash": "ecd8761dea100a2d9e1fdeaf69ac1f388bbf96fb845ba6f63a89cc6490b98639"
   }
  }
 },
 "nbformat": 4,
 "nbformat_minor": 2
}
